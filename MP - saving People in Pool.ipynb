{
 "cells": [
  {
   "cell_type": "code",
   "execution_count": null,
   "id": "a19e1628",
   "metadata": {},
   "outputs": [],
   "source": [
    "import mediapipe as mp\n",
    "import cv2\n",
    "import numpy as np\n",
    "import torch"
   ]
  },
  {
   "cell_type": "code",
   "execution_count": null,
   "id": "b2d8343e",
   "metadata": {},
   "outputs": [],
   "source": [
    "mp_pose = mp.solutions.pose\n",
    "poses = mp_pose.Pose(min_tracking_confidence=0.5, min_detection_confidence=0.5)\n",
    "mp_draw = mp.solutions.drawing_utils"
   ]
  },
  {
   "cell_type": "code",
   "execution_count": null,
   "id": "df5f00eb",
   "metadata": {},
   "outputs": [],
   "source": [
    "model = torch.hub.load(\"ultralytics/yolov5\", \"yolov5m\", pretrained=True)"
   ]
  },
  {
   "cell_type": "code",
   "execution_count": null,
   "id": "0cfff22e",
   "metadata": {},
   "outputs": [],
   "source": [
    "video = cv2.VideoCapture(0)\n",
    "flag = 0\n",
    "frame_check = 10"
   ]
  },
  {
   "cell_type": "code",
   "execution_count": null,
   "id": "0d3a675d",
   "metadata": {},
   "outputs": [],
   "source": [
    "def angles(a, b, c):\n",
    "    a = np.array(a)\n",
    "    b = np.array(b)\n",
    "    c = np.array(c)\n",
    "    radians = np.arctan2(c[1] - b[1], c[0] - b[0]) - np.arctan2(a[1] - b[1], a[0] - b[0])\n",
    "    angle = np.abs(radians * 180/np.pi)\n",
    "    if angle > 180: angle = 360-angle\n",
    "    return angle"
   ]
  },
  {
   "cell_type": "code",
   "execution_count": null,
   "id": "fc14286d",
   "metadata": {},
   "outputs": [],
   "source": [
    "while True:\n",
    "    _, image = video.read()\n",
    "\n",
    "    image_rgb = cv2.cvtColor(image, cv2.COLOR_BGR2RGB)\n",
    "    results = model.process(image)\n",
    "\n",
    "    result = poses.process(image_rgb)\n",
    "\n",
    "    h, w, c = image.shape\n",
    "    if result.pose_landmarks:\n",
    "        mp_draw.draw_landmarks(image, result.pose_landmarks, mp_pose.POSE_CONNECTIONS)\n",
    "        landmarks = result.pose_landmarks.landmark\n",
    "        # print(landmarks)\n",
    "\n",
    "        l_shoulder = [landmarks[mp_pose.PoseLandmark.LEFT_SHOULDER.value].x,\n",
    "                      landmarks[mp_pose.PoseLandmark.LEFT_SHOULDER.value].y]\n",
    "\n",
    "        l_elbow = [landmarks[mp_pose.PoseLandmark.LEFT_ELBOW.value].x,\n",
    "                      landmarks[mp_pose.PoseLandmark.LEFT_ELBOW.value].y]\n",
    "\n",
    "        l_wrist = [landmarks[mp_pose.PoseLandmark.LEFT_WRIST.value].x,\n",
    "                      landmarks[mp_pose.PoseLandmark.LEFT_WRIST.value].y]\n",
    "# ============================================================================================\n",
    "        r_shoulder = [landmarks[mp_pose.PoseLandmark.RIGHT_SHOULDER.value].x,\n",
    "                      landmarks[mp_pose.PoseLandmark.RIGHT_SHOULDER.value].y]\n",
    "\n",
    "        r_elbow = [landmarks[mp_pose.PoseLandmark.RIGHT_ELBOW.value].x,\n",
    "                   landmarks[mp_pose.PoseLandmark.RIGHT_ELBOW.value].y]\n",
    "\n",
    "        r_wrist = [landmarks[mp_pose.PoseLandmark.RIGHT_WRIST.value].x,\n",
    "                   landmarks[mp_pose.PoseLandmark.RIGHT_WRIST.value].y]\n",
    "\n",
    "        # Calculate Angles\n",
    "        l_ang = angles(l_shoulder, l_elbow, l_wrist)\n",
    "        r_ang = angles(r_shoulder, r_elbow, r_wrist)\n",
    "\n",
    "        if l_wrist[1]*h < l_elbow[1]*h < l_shoulder[1]*h and l_ang > 150:\n",
    "            flag += 1\n",
    "            if flag >= frame_check:\n",
    "                cv2.putText(image, \"Warning!!! Someone need Help\", (20, 75), cv2.FONT_ITALIC, 1, (0, 255, 0))\n",
    "                print(flag)\n",
    "                print(l_ang)\n",
    "\n",
    "        elif r_wrist[1]*h < r_elbow[1]*h < r_shoulder[1]*h and r_ang > 150:\n",
    "            flag += 1\n",
    "            if flag >= frame_check:\n",
    "                cv2.putText(image, \"Warning!!! Someone need Help\", (20, 75), cv2.FONT_ITALIC, 1, (0, 255, 0))\n",
    "                print(flag)\n",
    "                print(r_ang)\n",
    "\n",
    "        points = []\n",
    "        for index, row in results.pandas().xyxy[0].iterrows():\n",
    "            x1 = int(row[\"xmin\"])\n",
    "            y1 = int(row[\"ymin\"])\n",
    "            x2 = int(row[\"xmax\"])\n",
    "            y2 = int(row[\"ymax\"])\n",
    "\n",
    "            n = (row['name'])\n",
    "            if \"person\" in n:\n",
    "                if row[\"confidence\"] > 0.25:\n",
    "                    points.append([x1, y1, x2, y2])\n",
    "\n",
    "                    cv2.rectangle(image, (x1, y1), (x2, y2), (0, 255, 0), 1)\n",
    "                    cv2.putText(image, str(row[\"confidence\"]), (x1, y1),\n",
    "                                cv2.FONT_HERSHEY_PLAIN, 1, (0, 255, 0))\n",
    "\n",
    "\n",
    "\n",
    "    cv2.imshow(\"image\", image)\n",
    "    if cv2.waitKey(1) == ord(\"o\"):break\n",
    "\n",
    "\n",
    "video.release()\n",
    "cv2.destroyAllWindows()\n"
   ]
  }
 ],
 "metadata": {
  "kernelspec": {
   "display_name": "Python 3 (ipykernel)",
   "language": "python",
   "name": "python3"
  },
  "language_info": {
   "codemirror_mode": {
    "name": "ipython",
    "version": 3
   },
   "file_extension": ".py",
   "mimetype": "text/x-python",
   "name": "python",
   "nbconvert_exporter": "python",
   "pygments_lexer": "ipython3",
   "version": "3.10.9"
  }
 },
 "nbformat": 4,
 "nbformat_minor": 5
}
